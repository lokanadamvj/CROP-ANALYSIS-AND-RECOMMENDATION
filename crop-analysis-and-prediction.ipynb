{
 "cells": [
  {
   "cell_type": "markdown",
   "id": "equivalent-collectible",
   "metadata": {
    "execution": {
     "iopub.execute_input": "2021-05-27T12:06:48.239027Z",
     "iopub.status.busy": "2021-05-27T12:06:48.238462Z",
     "iopub.status.idle": "2021-05-27T12:06:48.245744Z",
     "shell.execute_reply": "2021-05-27T12:06:48.244007Z",
     "shell.execute_reply.started": "2021-05-27T12:06:48.238895Z"
    },
    "papermill": {
     "duration": 0.037097,
     "end_time": "2021-06-02T16:01:01.172483",
     "exception": false,
     "start_time": "2021-06-02T16:01:01.135386",
     "status": "completed"
    },
    "tags": []
   },
   "source": [
    "# <center>CROP RECOMMENDATION USING WEATHER AND SOIL CONTENT</center>\n",
    "<center><img src= \"https://media.nationalgeographic.org/assets/photos/120/983/091a0e2f-b93d-481b-9a60-db520c87ec33.jpg\" alt =\"Titanic\" style='width:500px;'></center><br>\n"
   ]
  },
  {
   "cell_type": "markdown",
   "id": "cleared-sample",
   "metadata": {
    "execution": {
     "iopub.execute_input": "2021-05-27T17:09:06.428125Z",
     "iopub.status.busy": "2021-05-27T17:09:06.42743Z",
     "iopub.status.idle": "2021-05-27T17:09:06.436102Z",
     "shell.execute_reply": "2021-05-27T17:09:06.434709Z",
     "shell.execute_reply.started": "2021-05-27T17:09:06.428081Z"
    },
    "papermill": {
     "duration": 0.034676,
     "end_time": "2021-06-02T16:01:01.242510",
     "exception": false,
     "start_time": "2021-06-02T16:01:01.207834",
     "status": "completed"
    },
    "tags": []
   },
   "source": [
    "- <h3> Machine Learning is well equipped when it comes to analyzing data regarding soil conditions, including moisture level, temperature, and chemical makeup, all of which have an impact upon crop growth and livestock well-being.<br>\n",
    "- <h3> Today in agriculture, this can allow crops to be grown at much higher precision, enabling farmers to treat plants and animals almost individually, which in turn significantly increases the effectiveness of farmers' decisions.<br>\n",
    "- <h3> Using this can develop means to even predict harvest yields and evaluate crop quality for individual plant species to detect crop disease and weed infestations which were previouly impossible!"
   ]
  },
  {
   "cell_type": "code",
   "execution_count": null,
   "id": "humanitarian-reservoir",
   "metadata": {
    "_cell_guid": "b1076dfc-b9ad-4769-8c92-a6c4dae69d19",
    "_uuid": "8f2839f25d086af736a60e9eeb907d3b93b6e0e5",
    "execution": {
     "iopub.execute_input": "2021-06-02T16:01:01.324038Z",
     "iopub.status.busy": "2021-06-02T16:01:01.323402Z",
     "iopub.status.idle": "2021-06-02T16:01:01.344560Z",
     "shell.execute_reply": "2021-06-02T16:01:01.343912Z",
     "shell.execute_reply.started": "2021-05-27T17:18:52.72529Z"
    },
    "papermill": {
     "duration": 0.067113,
     "end_time": "2021-06-02T16:01:01.344777",
     "exception": false,
     "start_time": "2021-06-02T16:01:01.277664",
     "status": "completed"
    },
    "tags": []
   },
   "outputs": [
    {
     "ename": "",
     "evalue": "",
     "output_type": "error",
     "traceback": [
      "\u001b[1;31mRunning cells with 'cropreco' requires the ipykernel package.\n",
      "\u001b[1;31mRun the following command to install 'ipykernel' into the Python environment. \n",
      "\u001b[1;31mCommand: 'conda install -n cropreco ipykernel --update-deps --force-reinstall'"
     ]
    }
   ],
   "source": [
    "# This Python 3 environment comes with many helpful analytics libraries installed\n",
    "# It is defined by the kaggle/python Docker image: https://github.com/kaggle/docker-python\n",
    "# For example, here's several helpful packages to load\n",
    "\n",
    "import numpy as np # linear algebra\n",
    "import pandas as pd # data processing, CSV file I/O (e.g. pd.read_csv)\n",
    "\n",
    "# Input data files are available in the read-only \"../input/\" directory\n",
    "# For example, running this (by clicking run or pressing Shift+Enter) will list all files under the input directory\n",
    "\n",
    "# You can write up to 20GB to the current directory (/kaggle/working/) that gets preserved as output when you create a version using \"Save & Run All\" \n",
    "\n",
    "# You can also write temporary files to /kaggle/temp/, but they won't be saved outside of the current session"
   ]
  },
  {
   "cell_type": "code",
   "execution_count": null,
   "id": "soviet-ghost",
   "metadata": {
    "execution": {
     "iopub.execute_input": "2021-06-02T16:01:01.423615Z",
     "iopub.status.busy": "2021-06-02T16:01:01.422937Z",
     "iopub.status.idle": "2021-06-02T16:01:02.252746Z",
     "shell.execute_reply": "2021-06-02T16:01:02.253276Z",
     "shell.execute_reply.started": "2021-05-27T17:18:52.747525Z"
    },
    "papermill": {
     "duration": 0.872225,
     "end_time": "2021-06-02T16:01:02.253511",
     "exception": false,
     "start_time": "2021-06-02T16:01:01.381286",
     "status": "completed"
    },
    "tags": []
   },
   "outputs": [
    {
     "ename": "",
     "evalue": "",
     "output_type": "error",
     "traceback": [
      "\u001b[1;31mRunning cells with 'cropreco' requires the ipykernel package.\n",
      "\u001b[1;31mRun the following command to install 'ipykernel' into the Python environment. \n",
      "\u001b[1;31mCommand: 'conda install -n cropreco ipykernel --update-deps --force-reinstall'"
     ]
    }
   ],
   "source": [
    "import warnings\n",
    "warnings.simplefilter(action='ignore', category=FutureWarning)\n",
    "warnings.simplefilter(action='ignore', category=UserWarning)\n",
    "import seaborn as sns\n",
    "import matplotlib.pyplot as plt\n",
    "%matplotlib inline"
   ]
  },
  {
   "cell_type": "code",
   "execution_count": null,
   "id": "dated-amazon",
   "metadata": {
    "execution": {
     "iopub.execute_input": "2021-06-02T16:01:02.330191Z",
     "iopub.status.busy": "2021-06-02T16:01:02.329409Z",
     "iopub.status.idle": "2021-06-02T16:01:02.382030Z",
     "shell.execute_reply": "2021-06-02T16:01:02.382528Z",
     "shell.execute_reply.started": "2021-05-27T17:18:53.683278Z"
    },
    "papermill": {
     "duration": 0.092913,
     "end_time": "2021-06-02T16:01:02.382748",
     "exception": false,
     "start_time": "2021-06-02T16:01:02.289835",
     "status": "completed"
    },
    "tags": []
   },
   "outputs": [
    {
     "ename": "",
     "evalue": "",
     "output_type": "error",
     "traceback": [
      "\u001b[1;31mRunning cells with 'cropreco' requires the ipykernel package.\n",
      "\u001b[1;31mRun the following command to install 'ipykernel' into the Python environment. \n",
      "\u001b[1;31mCommand: 'conda install -n cropreco ipykernel --update-deps --force-reinstall'"
     ]
    }
   ],
   "source": [
    "df=pd.read_csv('Crop_recommendation_morefeatures.csv')\n",
    "df.head()"
   ]
  },
  {
   "cell_type": "code",
   "execution_count": null,
   "id": "legal-colon",
   "metadata": {
    "execution": {
     "iopub.execute_input": "2021-06-02T16:01:02.460763Z",
     "iopub.status.busy": "2021-06-02T16:01:02.459936Z",
     "iopub.status.idle": "2021-06-02T16:01:02.496023Z",
     "shell.execute_reply": "2021-06-02T16:01:02.496472Z",
     "shell.execute_reply.started": "2021-05-27T17:18:53.732085Z"
    },
    "papermill": {
     "duration": 0.076515,
     "end_time": "2021-06-02T16:01:02.496702",
     "exception": false,
     "start_time": "2021-06-02T16:01:02.420187",
     "status": "completed"
    },
    "tags": []
   },
   "outputs": [
    {
     "ename": "",
     "evalue": "",
     "output_type": "error",
     "traceback": [
      "\u001b[1;31mRunning cells with 'cropreco' requires the ipykernel package.\n",
      "\u001b[1;31mRun the following command to install 'ipykernel' into the Python environment. \n",
      "\u001b[1;31mCommand: 'conda install -n cropreco ipykernel --update-deps --force-reinstall'"
     ]
    }
   ],
   "source": [
    "df.describe()"
   ]
  },
  {
   "cell_type": "markdown",
   "id": "latin-twenty",
   "metadata": {
    "papermill": {
     "duration": 0.036403,
     "end_time": "2021-06-02T16:01:02.570095",
     "exception": false,
     "start_time": "2021-06-02T16:01:02.533692",
     "status": "completed"
    },
    "tags": []
   },
   "source": [
    "# Exploratory Data Analysis\n",
    "\n",
    "### Heatmap to check null/missing values"
   ]
  },
  {
   "cell_type": "code",
   "execution_count": null,
   "id": "mental-poland",
   "metadata": {
    "execution": {
     "iopub.execute_input": "2021-06-02T16:01:02.648411Z",
     "iopub.status.busy": "2021-06-02T16:01:02.647750Z",
     "iopub.status.idle": "2021-06-02T16:01:03.068848Z",
     "shell.execute_reply": "2021-06-02T16:01:03.069378Z",
     "shell.execute_reply.started": "2021-05-27T17:18:53.778125Z"
    },
    "papermill": {
     "duration": 0.462123,
     "end_time": "2021-06-02T16:01:03.069593",
     "exception": false,
     "start_time": "2021-06-02T16:01:02.607470",
     "status": "completed"
    },
    "tags": []
   },
   "outputs": [
    {
     "ename": "",
     "evalue": "",
     "output_type": "error",
     "traceback": [
      "\u001b[1;31mRunning cells with 'cropreco' requires the ipykernel package.\n",
      "\u001b[1;31mRun the following command to install 'ipykernel' into the Python environment. \n",
      "\u001b[1;31mCommand: 'conda install -n cropreco ipykernel --update-deps --force-reinstall'"
     ]
    }
   ],
   "source": [
    "sns.heatmap(df.isnull(),cmap=\"coolwarm\")\n",
    "plt.show()"
   ]
  },
  {
   "cell_type": "markdown",
   "id": "moral-division",
   "metadata": {
    "papermill": {
     "duration": 0.037831,
     "end_time": "2021-06-02T16:01:03.153228",
     "exception": false,
     "start_time": "2021-06-02T16:01:03.115397",
     "status": "completed"
    },
    "tags": []
   },
   "source": [
    "<h4> <u>Let's have a closer look at the distribution of temperature and ph.</u><br><br>\n",
    "    \n",
    "It is symmetrical and bell shaped, showing that trials will usually give a result near the average, but will occasionally deviate by large amounts. It's also fascinating how these two really resemble each other!</h4>"
   ]
  },
  {
   "cell_type": "code",
   "execution_count": null,
   "id": "ordinary-johns",
   "metadata": {
    "execution": {
     "iopub.execute_input": "2021-06-02T16:01:03.231621Z",
     "iopub.status.busy": "2021-06-02T16:01:03.230968Z",
     "iopub.status.idle": "2021-06-02T16:01:03.611875Z",
     "shell.execute_reply": "2021-06-02T16:01:03.612349Z",
     "shell.execute_reply.started": "2021-05-27T17:18:54.230226Z"
    },
    "papermill": {
     "duration": 0.421299,
     "end_time": "2021-06-02T16:01:03.612537",
     "exception": false,
     "start_time": "2021-06-02T16:01:03.191238",
     "status": "completed"
    },
    "tags": []
   },
   "outputs": [
    {
     "ename": "",
     "evalue": "",
     "output_type": "error",
     "traceback": [
      "\u001b[1;31mRunning cells with 'cropreco' requires the ipykernel package.\n",
      "\u001b[1;31mRun the following command to install 'ipykernel' into the Python environment. \n",
      "\u001b[1;31mCommand: 'conda install -n cropreco ipykernel --update-deps --force-reinstall'"
     ]
    }
   ],
   "source": [
    "plt.figure(figsize=(12,5))\n",
    "plt.subplot(1, 2, 1)\n",
    "# sns.distplot(df_setosa['sepal_length'],kde=True,color='green',bins=20,hist_kws={'alpha':0.3})\n",
    "sns.distplot(df['temperature'],color=\"purple\",bins=15,hist_kws={'alpha':0.2})\n",
    "plt.subplot(1, 2, 2)\n",
    "sns.distplot(df['ph'],color=\"green\",bins=15,hist_kws={'alpha':0.2})"
   ]
  },
  {
   "cell_type": "markdown",
   "id": "unusual-memorial",
   "metadata": {
    "papermill": {
     "duration": 0.038923,
     "end_time": "2021-06-02T16:01:03.690358",
     "exception": false,
     "start_time": "2021-06-02T16:01:03.651435",
     "status": "completed"
    },
    "tags": []
   },
   "source": [
    "<h4> A quick check if the dataset is balanced or not. If found imbalanced, we would have to downsample some targets which are more in quantity but so far everything looks good! <h4>"
   ]
  },
  {
   "cell_type": "code",
   "execution_count": null,
   "id": "initial-yeast",
   "metadata": {
    "execution": {
     "iopub.execute_input": "2021-06-02T16:01:03.771702Z",
     "iopub.status.busy": "2021-06-02T16:01:03.771025Z",
     "iopub.status.idle": "2021-06-02T16:01:04.033293Z",
     "shell.execute_reply": "2021-06-02T16:01:04.033814Z",
     "shell.execute_reply.started": "2021-05-27T17:18:54.659934Z"
    },
    "papermill": {
     "duration": 0.304527,
     "end_time": "2021-06-02T16:01:04.033999",
     "exception": false,
     "start_time": "2021-06-02T16:01:03.729472",
     "status": "completed"
    },
    "tags": []
   },
   "outputs": [
    {
     "ename": "",
     "evalue": "",
     "output_type": "error",
     "traceback": [
      "\u001b[1;31mRunning cells with 'cropreco' requires the ipykernel package.\n",
      "\u001b[1;31mRun the following command to install 'ipykernel' into the Python environment. \n",
      "\u001b[1;31mCommand: 'conda install -n cropreco ipykernel --update-deps --force-reinstall'"
     ]
    }
   ],
   "source": [
    "sns.countplot(y='label',data=df, palette=\"plasma_r\")"
   ]
  },
  {
   "cell_type": "markdown",
   "id": "equal-sunday",
   "metadata": {
    "execution": {
     "iopub.execute_input": "2021-05-26T16:06:33.590382Z",
     "iopub.status.busy": "2021-05-26T16:06:33.590018Z",
     "iopub.status.idle": "2021-05-26T16:06:33.596192Z",
     "shell.execute_reply": "2021-05-26T16:06:33.594924Z",
     "shell.execute_reply.started": "2021-05-26T16:06:33.590352Z"
    },
    "papermill": {
     "duration": 0.039657,
     "end_time": "2021-06-02T16:01:04.113765",
     "exception": false,
     "start_time": "2021-06-02T16:01:04.074108",
     "status": "completed"
    },
    "tags": []
   },
   "source": [
    "<h4> A very important plot to visualize the diagonal distribution between two features for all the combinations! It is great to visualize how classes differ from each other in a particular space."
   ]
  },
  {
   "cell_type": "code",
   "execution_count": null,
   "id": "expected-principle",
   "metadata": {
    "execution": {
     "iopub.execute_input": "2021-06-02T16:01:04.197599Z",
     "iopub.status.busy": "2021-06-02T16:01:04.196965Z",
     "iopub.status.idle": "2021-06-02T16:01:41.258035Z",
     "shell.execute_reply": "2021-06-02T16:01:41.258553Z",
     "shell.execute_reply.started": "2021-05-27T17:18:54.961864Z"
    },
    "papermill": {
     "duration": 37.105274,
     "end_time": "2021-06-02T16:01:41.258735",
     "exception": false,
     "start_time": "2021-06-02T16:01:04.153461",
     "status": "completed"
    },
    "tags": []
   },
   "outputs": [
    {
     "ename": "",
     "evalue": "",
     "output_type": "error",
     "traceback": [
      "\u001b[1;31mRunning cells with 'cropreco' requires the ipykernel package.\n",
      "\u001b[1;31mRun the following command to install 'ipykernel' into the Python environment. \n",
      "\u001b[1;31mCommand: 'conda install -n cropreco ipykernel --update-deps --force-reinstall'"
     ]
    }
   ],
   "source": [
    "sns.pairplot(df, hue = 'label')"
   ]
  },
  {
   "cell_type": "markdown",
   "id": "contrary-drive",
   "metadata": {
    "papermill": {
     "duration": 0.070675,
     "end_time": "2021-06-02T16:01:41.400258",
     "exception": false,
     "start_time": "2021-06-02T16:01:41.329583",
     "status": "completed"
    },
    "tags": []
   },
   "source": [
    "#### During rainy season, average rainfall is high (average 120 mm) and temperature is mildly chill (less than 30'C).\n",
    "\n",
    "#### Rain affects soil moisture which affects ph of the soil. Here are the crops which are likely to be planted during this season. \n",
    "\n",
    "- <b> Rice needs heavy rainfall (>200 mm) and a humidity above 80%. No wonder major rice production in India comes from East Coasts which has average of 220 mm rainfall every year!\n",
    "- <b> Coconut is a tropical crop and needs high humidity therefore explaining massive exports from coastal areas around the country."
   ]
  },
  {
   "cell_type": "code",
   "execution_count": null,
   "id": "equipped-timeline",
   "metadata": {
    "execution": {
     "iopub.execute_input": "2021-06-02T16:01:41.546621Z",
     "iopub.status.busy": "2021-06-02T16:01:41.545551Z",
     "iopub.status.idle": "2021-06-02T16:01:42.466762Z",
     "shell.execute_reply": "2021-06-02T16:01:42.466170Z",
     "shell.execute_reply.started": "2021-05-27T17:19:36.582995Z"
    },
    "papermill": {
     "duration": 0.99531,
     "end_time": "2021-06-02T16:01:42.466916",
     "exception": false,
     "start_time": "2021-06-02T16:01:41.471606",
     "status": "completed"
    },
    "tags": []
   },
   "outputs": [
    {
     "ename": "",
     "evalue": "",
     "output_type": "error",
     "traceback": [
      "\u001b[1;31mRunning cells with 'cropreco' requires the ipykernel package.\n",
      "\u001b[1;31mRun the following command to install 'ipykernel' into the Python environment. \n",
      "\u001b[1;31mCommand: 'conda install -n cropreco ipykernel --update-deps --force-reinstall'"
     ]
    }
   ],
   "source": [
    "sns.jointplot(x=\"rainfall\",y=\"humidity\",data=df[(df['temperature']<30) & (df['rainfall']>120)],hue=\"label\")"
   ]
  },
  {
   "cell_type": "markdown",
   "id": "moderate-block",
   "metadata": {
    "papermill": {
     "duration": 0.073404,
     "end_time": "2021-06-02T16:01:42.614303",
     "exception": false,
     "start_time": "2021-06-02T16:01:42.540899",
     "status": "completed"
    },
    "tags": []
   },
   "source": [
    "#### This graph correlates with average potassium (K) and average nitrogen (N) value (both>50). \n",
    "#### These soil ingredients direcly affects nutrition value of the food. Fruits which have high nutrients typically has consistent potassium values."
   ]
  },
  {
   "cell_type": "code",
   "execution_count": null,
   "id": "dental-mistake",
   "metadata": {
    "execution": {
     "iopub.execute_input": "2021-06-02T16:01:42.823346Z",
     "iopub.status.busy": "2021-06-02T16:01:42.796886Z",
     "iopub.status.idle": "2021-06-02T16:01:43.445699Z",
     "shell.execute_reply": "2021-06-02T16:01:43.446183Z",
     "shell.execute_reply.started": "2021-05-27T17:19:37.594996Z"
    },
    "papermill": {
     "duration": 0.757535,
     "end_time": "2021-06-02T16:01:43.446364",
     "exception": false,
     "start_time": "2021-06-02T16:01:42.688829",
     "status": "completed"
    },
    "tags": []
   },
   "outputs": [
    {
     "ename": "",
     "evalue": "",
     "output_type": "error",
     "traceback": [
      "\u001b[1;31mRunning cells with 'cropreco' requires the ipykernel package.\n",
      "\u001b[1;31mRun the following command to install 'ipykernel' into the Python environment. \n",
      "\u001b[1;31mCommand: 'conda install -n cropreco ipykernel --update-deps --force-reinstall'"
     ]
    }
   ],
   "source": [
    "sns.jointplot(x=\"K\",y=\"N\",data=df[(df['N']>40)&(df['K']>40)],hue=\"label\")"
   ]
  },
  {
   "cell_type": "markdown",
   "id": "different-climb",
   "metadata": {
    "papermill": {
     "duration": 0.075556,
     "end_time": "2021-06-02T16:01:43.598908",
     "exception": false,
     "start_time": "2021-06-02T16:01:43.523352",
     "status": "completed"
    },
    "tags": []
   },
   "source": [
    "<h4>Let's try to plot a specfic case of pairplot between `humidity` and `K` (potassium levels in the soil.)</h4>\n",
    "\n",
    "#### `sns.jointplot()` can be used for bivariate analysis to plot between humidity and K levels based on Label type. It further generates frequency distribution of classes with respect to features"
   ]
  },
  {
   "cell_type": "code",
   "execution_count": null,
   "id": "violent-contractor",
   "metadata": {
    "execution": {
     "iopub.execute_input": "2021-06-02T16:01:43.810803Z",
     "iopub.status.busy": "2021-06-02T16:01:43.803273Z",
     "iopub.status.idle": "2021-06-02T16:01:45.123098Z",
     "shell.execute_reply": "2021-06-02T16:01:45.123583Z",
     "shell.execute_reply.started": "2021-05-27T17:19:38.367992Z"
    },
    "papermill": {
     "duration": 1.449974,
     "end_time": "2021-06-02T16:01:45.123750",
     "exception": false,
     "start_time": "2021-06-02T16:01:43.673776",
     "status": "completed"
    },
    "tags": []
   },
   "outputs": [
    {
     "ename": "",
     "evalue": "",
     "output_type": "error",
     "traceback": [
      "\u001b[1;31mRunning cells with 'cropreco' requires the ipykernel package.\n",
      "\u001b[1;31mRun the following command to install 'ipykernel' into the Python environment. \n",
      "\u001b[1;31mCommand: 'conda install -n cropreco ipykernel --update-deps --force-reinstall'"
     ]
    }
   ],
   "source": [
    "sns.jointplot(x=\"K\",y=\"humidity\",data=df,hue='label',size=8,s=30,alpha=0.7)"
   ]
  },
  {
   "cell_type": "markdown",
   "id": "tight-malaysia",
   "metadata": {
    "papermill": {
     "duration": 0.077431,
     "end_time": "2021-06-02T16:01:45.280014",
     "exception": false,
     "start_time": "2021-06-02T16:01:45.202583",
     "status": "completed"
    },
    "tags": []
   },
   "source": [
    "#### We can see ph values are critical when it comes to soil. A stability between 6 and 7 is preffered"
   ]
  },
  {
   "cell_type": "code",
   "execution_count": null,
   "id": "social-spanking",
   "metadata": {
    "execution": {
     "iopub.execute_input": "2021-06-02T16:01:45.443644Z",
     "iopub.status.busy": "2021-06-02T16:01:45.442988Z",
     "iopub.status.idle": "2021-06-02T16:01:45.947606Z",
     "shell.execute_reply": "2021-06-02T16:01:45.947059Z",
     "shell.execute_reply.started": "2021-05-27T17:19:39.899118Z"
    },
    "papermill": {
     "duration": 0.590324,
     "end_time": "2021-06-02T16:01:45.947744",
     "exception": false,
     "start_time": "2021-06-02T16:01:45.357420",
     "status": "completed"
    },
    "tags": []
   },
   "outputs": [
    {
     "ename": "",
     "evalue": "",
     "output_type": "error",
     "traceback": [
      "\u001b[1;31mRunning cells with 'cropreco' requires the ipykernel package.\n",
      "\u001b[1;31mRun the following command to install 'ipykernel' into the Python environment. \n",
      "\u001b[1;31mCommand: 'conda install -n cropreco ipykernel --update-deps --force-reinstall'"
     ]
    }
   ],
   "source": [
    "sns.boxplot(y='label',x='ph',data=df)"
   ]
  },
  {
   "cell_type": "markdown",
   "id": "mobile-plate",
   "metadata": {
    "papermill": {
     "duration": 0.079609,
     "end_time": "2021-06-02T16:01:46.107887",
     "exception": false,
     "start_time": "2021-06-02T16:01:46.028278",
     "status": "completed"
    },
    "tags": []
   },
   "source": [
    "#### Another interesting analysis where Phosphorous levels are quite differentiable when it rains heavily (above 150 mm)."
   ]
  },
  {
   "cell_type": "code",
   "execution_count": null,
   "id": "center-mercy",
   "metadata": {
    "execution": {
     "iopub.execute_input": "2021-06-02T16:01:46.328353Z",
     "iopub.status.busy": "2021-06-02T16:01:46.309292Z",
     "iopub.status.idle": "2021-06-02T16:01:46.498653Z",
     "shell.execute_reply": "2021-06-02T16:01:46.498015Z",
     "shell.execute_reply.started": "2021-05-27T17:19:40.46782Z"
    },
    "papermill": {
     "duration": 0.311645,
     "end_time": "2021-06-02T16:01:46.498789",
     "exception": false,
     "start_time": "2021-06-02T16:01:46.187144",
     "status": "completed"
    },
    "tags": []
   },
   "outputs": [
    {
     "ename": "",
     "evalue": "",
     "output_type": "error",
     "traceback": [
      "\u001b[1;31mRunning cells with 'cropreco' requires the ipykernel package.\n",
      "\u001b[1;31mRun the following command to install 'ipykernel' into the Python environment. \n",
      "\u001b[1;31mCommand: 'conda install -n cropreco ipykernel --update-deps --force-reinstall'"
     ]
    }
   ],
   "source": [
    "sns.boxplot(y='label',x='P',data=df[df['rainfall']>150])"
   ]
  },
  {
   "cell_type": "markdown",
   "id": "suffering-nursing",
   "metadata": {
    "execution": {
     "iopub.execute_input": "2021-05-27T04:09:14.720949Z",
     "iopub.status.busy": "2021-05-27T04:09:14.720513Z",
     "iopub.status.idle": "2021-05-27T04:09:14.72936Z",
     "shell.execute_reply": "2021-05-27T04:09:14.727764Z",
     "shell.execute_reply.started": "2021-05-27T04:09:14.720912Z"
    },
    "papermill": {
     "duration": 0.079834,
     "end_time": "2021-06-02T16:01:46.658706",
     "exception": false,
     "start_time": "2021-06-02T16:01:46.578872",
     "status": "completed"
    },
    "tags": []
   },
   "source": [
    "#### Further analyzing phosphorous levels.\n",
    "\n",
    "When humidity is less than 65, almost same phosphor levels(approx 14 to 25) are required for 6 crops which could be grown just based on the amount of rain expected over the next few weeks."
   ]
  },
  {
   "cell_type": "code",
   "execution_count": null,
   "id": "particular-exchange",
   "metadata": {
    "execution": {
     "iopub.execute_input": "2021-06-02T16:01:46.849181Z",
     "iopub.status.busy": "2021-06-02T16:01:46.834424Z",
     "iopub.status.idle": "2021-06-02T16:01:50.031607Z",
     "shell.execute_reply": "2021-06-02T16:01:50.032052Z",
     "shell.execute_reply.started": "2021-05-27T17:19:40.719561Z"
    },
    "papermill": {
     "duration": 3.293705,
     "end_time": "2021-06-02T16:01:50.032224",
     "exception": false,
     "start_time": "2021-06-02T16:01:46.738519",
     "status": "completed"
    },
    "tags": []
   },
   "outputs": [
    {
     "ename": "",
     "evalue": "",
     "output_type": "error",
     "traceback": [
      "\u001b[1;31mRunning cells with 'cropreco' requires the ipykernel package.\n",
      "\u001b[1;31mRun the following command to install 'ipykernel' into the Python environment. \n",
      "\u001b[1;31mCommand: 'conda install -n cropreco ipykernel --update-deps --force-reinstall'"
     ]
    }
   ],
   "source": [
    "sns.lineplot(data = df[(df['humidity']<65)], x = \"K\", y = \"rainfall\",hue=\"label\")"
   ]
  },
  {
   "cell_type": "markdown",
   "id": "opposite-enlargement",
   "metadata": {
    "papermill": {
     "duration": 0.083311,
     "end_time": "2021-06-02T16:01:50.200805",
     "exception": false,
     "start_time": "2021-06-02T16:01:50.117494",
     "status": "completed"
    },
    "tags": []
   },
   "source": [
    "# DATA PRE-PROCESSING\n",
    "\n",
    "### Let's make the data ready for machine learning model"
   ]
  },
  {
   "cell_type": "code",
   "execution_count": null,
   "id": "sustained-tobago",
   "metadata": {
    "execution": {
     "iopub.execute_input": "2021-06-02T16:01:50.370943Z",
     "iopub.status.busy": "2021-06-02T16:01:50.370264Z",
     "iopub.status.idle": "2021-06-02T16:01:50.377938Z",
     "shell.execute_reply": "2021-06-02T16:01:50.378461Z",
     "shell.execute_reply.started": "2021-05-27T17:19:44.262645Z"
    },
    "papermill": {
     "duration": 0.094351,
     "end_time": "2021-06-02T16:01:50.378662",
     "exception": false,
     "start_time": "2021-06-02T16:01:50.284311",
     "status": "completed"
    },
    "tags": []
   },
   "outputs": [
    {
     "ename": "",
     "evalue": "",
     "output_type": "error",
     "traceback": [
      "\u001b[1;31mRunning cells with 'cropreco' requires the ipykernel package.\n",
      "\u001b[1;31mRun the following command to install 'ipykernel' into the Python environment. \n",
      "\u001b[1;31mCommand: 'conda install -n cropreco ipykernel --update-deps --force-reinstall'"
     ]
    }
   ],
   "source": [
    "c=df.label.astype('category')\n",
    "targets = dict(enumerate(c.cat.categories))\n",
    "df['target']=c.cat.codes\n",
    "\n",
    "c=df.District.astype('category')\n",
    "df['District']=c.cat.codes\n",
    "\n",
    "y=df.target\n",
    "X=df[['District','N','P','K','temperature','humidity','ph','rainfall']]"
   ]
  },
  {
   "cell_type": "markdown",
   "id": "absent-actress",
   "metadata": {
    "papermill": {
     "duration": 0.083599,
     "end_time": "2021-06-02T16:01:50.546486",
     "exception": false,
     "start_time": "2021-06-02T16:01:50.462887",
     "status": "completed"
    },
    "tags": []
   },
   "source": [
    "**Correlation visualization between features. We can see how Phosphorous levels and Potassium levels are highly correlated.**"
   ]
  },
  {
   "cell_type": "code",
   "execution_count": null,
   "id": "threaded-transport",
   "metadata": {
    "execution": {
     "iopub.execute_input": "2021-06-02T16:01:50.717661Z",
     "iopub.status.busy": "2021-06-02T16:01:50.716992Z",
     "iopub.status.idle": "2021-06-02T16:01:50.983010Z",
     "shell.execute_reply": "2021-06-02T16:01:50.982175Z",
     "shell.execute_reply.started": "2021-05-27T17:19:44.274437Z"
    },
    "papermill": {
     "duration": 0.352768,
     "end_time": "2021-06-02T16:01:50.983189",
     "exception": false,
     "start_time": "2021-06-02T16:01:50.630421",
     "status": "completed"
    },
    "tags": []
   },
   "outputs": [
    {
     "ename": "",
     "evalue": "",
     "output_type": "error",
     "traceback": [
      "\u001b[1;31mRunning cells with 'cropreco' requires the ipykernel package.\n",
      "\u001b[1;31mRun the following command to install 'ipykernel' into the Python environment. \n",
      "\u001b[1;31mCommand: 'conda install -n cropreco ipykernel --update-deps --force-reinstall'"
     ]
    }
   ],
   "source": [
    "sns.heatmap(X.corr())"
   ]
  },
  {
   "cell_type": "markdown",
   "id": "fossil-appraisal",
   "metadata": {
    "papermill": {
     "duration": 0.085994,
     "end_time": "2021-06-02T16:01:51.155445",
     "exception": false,
     "start_time": "2021-06-02T16:01:51.069451",
     "status": "completed"
    },
    "tags": []
   },
   "source": [
    "# FEATURE SCALING\n",
    "**Feature scaling is required before creating training data and feeding it to the model.**\n",
    "\n",
    "As we saw earlier, two of our features (temperature and ph) are gaussian distributed, therefore scaling them between 0 and 1 with MinMaxScaler."
   ]
  },
  {
   "cell_type": "code",
   "execution_count": null,
   "id": "determined-marble",
   "metadata": {
    "execution": {
     "iopub.execute_input": "2021-06-02T16:01:51.330899Z",
     "iopub.status.busy": "2021-06-02T16:01:51.330174Z",
     "iopub.status.idle": "2021-06-02T16:01:51.540030Z",
     "shell.execute_reply": "2021-06-02T16:01:51.539272Z",
     "shell.execute_reply.started": "2021-05-27T17:19:44.630901Z"
    },
    "papermill": {
     "duration": 0.300047,
     "end_time": "2021-06-02T16:01:51.540197",
     "exception": false,
     "start_time": "2021-06-02T16:01:51.240150",
     "status": "completed"
    },
    "tags": []
   },
   "outputs": [
    {
     "ename": "",
     "evalue": "",
     "output_type": "error",
     "traceback": [
      "\u001b[1;31mRunning cells with 'cropreco' requires the ipykernel package.\n",
      "\u001b[1;31mRun the following command to install 'ipykernel' into the Python environment. \n",
      "\u001b[1;31mCommand: 'conda install -n cropreco ipykernel --update-deps --force-reinstall'"
     ]
    }
   ],
   "source": [
    "from sklearn.model_selection import train_test_split\n",
    "from sklearn.preprocessing import MinMaxScaler\n",
    "\n",
    "X_train, X_test, y_train, y_test = train_test_split(X, y,random_state=1)\n",
    "\n",
    "scaler = MinMaxScaler()\n",
    "X_train_scaled = scaler.fit_transform(X_train)\n",
    "\n",
    "# we must apply the scaling to the test set as well that we are computing for the training set\n",
    "X_test_scaled = scaler.transform(X_test)"
   ]
  },
  {
   "cell_type": "markdown",
   "id": "systematic-lawsuit",
   "metadata": {
    "papermill": {
     "duration": 0.085859,
     "end_time": "2021-06-02T16:01:51.713254",
     "exception": false,
     "start_time": "2021-06-02T16:01:51.627395",
     "status": "completed"
    },
    "tags": []
   },
   "source": [
    "# MODEL SELECTION\n",
    "\n",
    "## KNN Classifier for Crop prediction. \n",
    "<hr>"
   ]
  },
  {
   "cell_type": "code",
   "execution_count": null,
   "id": "chronic-montgomery",
   "metadata": {
    "execution": {
     "iopub.execute_input": "2021-06-02T16:01:51.890163Z",
     "iopub.status.busy": "2021-06-02T16:01:51.889378Z",
     "iopub.status.idle": "2021-06-02T16:01:52.084696Z",
     "shell.execute_reply": "2021-06-02T16:01:52.084129Z",
     "shell.execute_reply.started": "2021-05-27T17:19:44.858654Z"
    },
    "papermill": {
     "duration": 0.285991,
     "end_time": "2021-06-02T16:01:52.084857",
     "exception": false,
     "start_time": "2021-06-02T16:01:51.798866",
     "status": "completed"
    },
    "tags": []
   },
   "outputs": [
    {
     "ename": "",
     "evalue": "",
     "output_type": "error",
     "traceback": [
      "\u001b[1;31mRunning cells with 'cropreco' requires the ipykernel package.\n",
      "\u001b[1;31mRun the following command to install 'ipykernel' into the Python environment. \n",
      "\u001b[1;31mCommand: 'conda install -n cropreco ipykernel --update-deps --force-reinstall'"
     ]
    }
   ],
   "source": [
    "from sklearn.neighbors import KNeighborsClassifier\n",
    "knn = KNeighborsClassifier()\n",
    "knn.fit(X_train_scaled, y_train)\n",
    "knn.score(X_test_scaled, y_test)"
   ]
  },
  {
   "cell_type": "markdown",
   "id": "fossil-switch",
   "metadata": {
    "papermill": {
     "duration": 0.085275,
     "end_time": "2021-06-02T16:01:52.256403",
     "exception": false,
     "start_time": "2021-06-02T16:01:52.171128",
     "status": "completed"
    },
    "tags": []
   },
   "source": [
    "### Confusion Matrix"
   ]
  },
  {
   "cell_type": "code",
   "execution_count": null,
   "id": "impaired-lincoln",
   "metadata": {
    "execution": {
     "iopub.execute_input": "2021-06-02T16:01:52.434272Z",
     "iopub.status.busy": "2021-06-02T16:01:52.433635Z",
     "iopub.status.idle": "2021-06-02T16:01:54.490743Z",
     "shell.execute_reply": "2021-06-02T16:01:54.490205Z",
     "shell.execute_reply.started": "2021-05-27T17:19:45.071161Z"
    },
    "papermill": {
     "duration": 2.148996,
     "end_time": "2021-06-02T16:01:54.490884",
     "exception": false,
     "start_time": "2021-06-02T16:01:52.341888",
     "status": "completed"
    },
    "tags": []
   },
   "outputs": [
    {
     "ename": "",
     "evalue": "",
     "output_type": "error",
     "traceback": [
      "\u001b[1;31mRunning cells with 'cropreco' requires the ipykernel package.\n",
      "\u001b[1;31mRun the following command to install 'ipykernel' into the Python environment. \n",
      "\u001b[1;31mCommand: 'conda install -n cropreco ipykernel --update-deps --force-reinstall'"
     ]
    }
   ],
   "source": [
    "from sklearn.metrics import confusion_matrix\n",
    "mat=confusion_matrix(y_test,knn.predict(X_test_scaled))\n",
    "df_cm = pd.DataFrame(mat, list(targets.values()), list(targets.values()))\n",
    "sns.set(font_scale=1.0) # for label size\n",
    "plt.figure(figsize = (12,8))\n",
    "sns.heatmap(df_cm, annot=True, annot_kws={\"size\": 12},cmap=\"terrain\")"
   ]
  },
  {
   "cell_type": "markdown",
   "id": "appropriate-friday",
   "metadata": {
    "papermill": {
     "duration": 0.085987,
     "end_time": "2021-06-02T16:01:54.665758",
     "exception": false,
     "start_time": "2021-06-02T16:01:54.579771",
     "status": "completed"
    },
    "tags": []
   },
   "source": [
    "### Let's try different values of n_neighbors to fine tune and get better results"
   ]
  },
  {
   "cell_type": "code",
   "execution_count": null,
   "id": "dated-consortium",
   "metadata": {
    "execution": {
     "iopub.execute_input": "2021-06-02T16:01:54.843104Z",
     "iopub.status.busy": "2021-06-02T16:01:54.842461Z",
     "iopub.status.idle": "2021-06-02T16:01:55.311442Z",
     "shell.execute_reply": "2021-06-02T16:01:55.311954Z",
     "shell.execute_reply.started": "2021-05-27T17:19:47.383233Z"
    },
    "papermill": {
     "duration": 0.559178,
     "end_time": "2021-06-02T16:01:55.312123",
     "exception": false,
     "start_time": "2021-06-02T16:01:54.752945",
     "status": "completed"
    },
    "tags": []
   },
   "outputs": [
    {
     "ename": "",
     "evalue": "",
     "output_type": "error",
     "traceback": [
      "\u001b[1;31mRunning cells with 'cropreco' requires the ipykernel package.\n",
      "\u001b[1;31mRun the following command to install 'ipykernel' into the Python environment. \n",
      "\u001b[1;31mCommand: 'conda install -n cropreco ipykernel --update-deps --force-reinstall'"
     ]
    }
   ],
   "source": [
    "k_range = range(1,11)\n",
    "scores = []\n",
    "\n",
    "for k in k_range:\n",
    "    knn = KNeighborsClassifier(n_neighbors = k)\n",
    "    knn.fit(X_train_scaled, y_train)\n",
    "    scores.append(knn.score(X_test_scaled, y_test))\n",
    "\n",
    "plt.xlabel('k')\n",
    "plt.ylabel('accuracy')\n",
    "plt.scatter(k_range, scores)\n",
    "plt.vlines(k_range,0, scores, linestyle=\"dashed\")\n",
    "plt.ylim(0.96,0.99)\n",
    "plt.xticks([i for i in range(1,11)]);"
   ]
  },
  {
   "cell_type": "markdown",
   "id": "vanilla-plastic",
   "metadata": {
    "papermill": {
     "duration": 0.08709,
     "end_time": "2021-06-02T16:01:55.487669",
     "exception": false,
     "start_time": "2021-06-02T16:01:55.400579",
     "status": "completed"
    },
    "tags": []
   },
   "source": [
    "## Classification using Support Vector Classifer (SVC)\n",
    "<hr>"
   ]
  },
  {
   "cell_type": "code",
   "execution_count": null,
   "id": "raising-retirement",
   "metadata": {
    "execution": {
     "iopub.execute_input": "2021-06-02T16:01:55.667165Z",
     "iopub.status.busy": "2021-06-02T16:01:55.666503Z",
     "iopub.status.idle": "2021-06-02T16:01:55.860856Z",
     "shell.execute_reply": "2021-06-02T16:01:55.860044Z",
     "shell.execute_reply.started": "2021-05-27T17:19:47.918018Z"
    },
    "papermill": {
     "duration": 0.285326,
     "end_time": "2021-06-02T16:01:55.861042",
     "exception": false,
     "start_time": "2021-06-02T16:01:55.575716",
     "status": "completed"
    },
    "tags": []
   },
   "outputs": [
    {
     "ename": "",
     "evalue": "",
     "output_type": "error",
     "traceback": [
      "\u001b[1;31mRunning cells with 'cropreco' requires the ipykernel package.\n",
      "\u001b[1;31mRun the following command to install 'ipykernel' into the Python environment. \n",
      "\u001b[1;31mCommand: 'conda install -n cropreco ipykernel --update-deps --force-reinstall'"
     ]
    }
   ],
   "source": [
    "from sklearn.svm import SVC\n",
    "\n",
    "svc_linear = SVC(kernel = 'linear').fit(X_train_scaled, y_train)\n",
    "print(\"Linear Kernel Accuracy: \",svc_linear.score(X_test_scaled,y_test))\n",
    "\n",
    "svc_poly = SVC(kernel = 'rbf').fit(X_train_scaled, y_train)\n",
    "print(\"Rbf Kernel Accuracy: \", svc_poly.score(X_test_scaled,y_test))\n",
    "\n",
    "svc_poly = SVC(kernel = 'poly').fit(X_train_scaled, y_train)\n",
    "print(\"Poly Kernel Accuracy: \", svc_poly.score(X_test_scaled,y_test))"
   ]
  },
  {
   "cell_type": "markdown",
   "id": "economic-basin",
   "metadata": {
    "papermill": {
     "duration": 0.088138,
     "end_time": "2021-06-02T16:01:56.040019",
     "exception": false,
     "start_time": "2021-06-02T16:01:55.951881",
     "status": "completed"
    },
    "tags": []
   },
   "source": [
    "### Let's try to increase SVC Linear model accuracy by parameter tuning.\n",
    "\n",
    "**GridSearchCV can help us find the best parameters.**"
   ]
  },
  {
   "cell_type": "code",
   "execution_count": null,
   "id": "third-consistency",
   "metadata": {
    "execution": {
     "iopub.execute_input": "2021-06-02T16:01:56.222774Z",
     "iopub.status.busy": "2021-06-02T16:01:56.221822Z",
     "iopub.status.idle": "2021-06-02T16:02:02.389431Z",
     "shell.execute_reply": "2021-06-02T16:02:02.388906Z",
     "shell.execute_reply.started": "2021-05-27T17:19:48.114632Z"
    },
    "papermill": {
     "duration": 6.260808,
     "end_time": "2021-06-02T16:02:02.389587",
     "exception": false,
     "start_time": "2021-06-02T16:01:56.128779",
     "status": "completed"
    },
    "tags": []
   },
   "outputs": [
    {
     "ename": "",
     "evalue": "",
     "output_type": "error",
     "traceback": [
      "\u001b[1;31mRunning cells with 'cropreco' requires the ipykernel package.\n",
      "\u001b[1;31mRun the following command to install 'ipykernel' into the Python environment. \n",
      "\u001b[1;31mCommand: 'conda install -n cropreco ipykernel --update-deps --force-reinstall'"
     ]
    }
   ],
   "source": [
    "from sklearn.metrics import accuracy_score\n",
    "from sklearn.model_selection import GridSearchCV\n",
    "\n",
    "parameters = {'C': np.logspace(-3, 2, 6).tolist(), 'gamma': np.logspace(-3, 2, 6).tolist()}\n",
    "# 'degree': np.arange(0,5,1).tolist(), 'kernel':['linear','rbf','poly']\n",
    "\n",
    "model = GridSearchCV(estimator = SVC(kernel=\"linear\"), param_grid=parameters, n_jobs=-1, cv=4)\n",
    "model.fit(X_train, y_train)"
   ]
  },
  {
   "cell_type": "code",
   "execution_count": null,
   "id": "focal-nevada",
   "metadata": {
    "execution": {
     "iopub.execute_input": "2021-06-02T16:02:02.573030Z",
     "iopub.status.busy": "2021-06-02T16:02:02.572248Z",
     "iopub.status.idle": "2021-06-02T16:02:02.575670Z",
     "shell.execute_reply": "2021-06-02T16:02:02.576260Z",
     "shell.execute_reply.started": "2021-05-27T17:19:54.313344Z"
    },
    "papermill": {
     "duration": 0.098169,
     "end_time": "2021-06-02T16:02:02.576435",
     "exception": false,
     "start_time": "2021-06-02T16:02:02.478266",
     "status": "completed"
    },
    "tags": []
   },
   "outputs": [
    {
     "ename": "",
     "evalue": "",
     "output_type": "error",
     "traceback": [
      "\u001b[1;31mRunning cells with 'cropreco' requires the ipykernel package.\n",
      "\u001b[1;31mRun the following command to install 'ipykernel' into the Python environment. \n",
      "\u001b[1;31mCommand: 'conda install -n cropreco ipykernel --update-deps --force-reinstall'"
     ]
    }
   ],
   "source": [
    "print(model.best_score_ )\n",
    "print(model.best_params_ )"
   ]
  },
  {
   "cell_type": "markdown",
   "id": "decent-appraisal",
   "metadata": {
    "papermill": {
     "duration": 0.089553,
     "end_time": "2021-06-02T16:02:02.754877",
     "exception": false,
     "start_time": "2021-06-02T16:02:02.665324",
     "status": "completed"
    },
    "tags": []
   },
   "source": [
    "**POINTS TO BE HIGHLIGHTED**\n",
    "1. *Interestingly liner kernel also gives satisfactory results but fine tuning increases the computation and might be inefficient in some cases*\n",
    "2. *The accuracy can be increased in poly kernel by tweaking parameters but might lead to intensive overfitting.*\n",
    "3. *RBF has better result than linear kernel.*\n",
    "4. *Poly kernel so far wins by a small margin.*"
   ]
  },
  {
   "cell_type": "markdown",
   "id": "center-chest",
   "metadata": {
    "papermill": {
     "duration": 0.089811,
     "end_time": "2021-06-02T16:02:02.934776",
     "exception": false,
     "start_time": "2021-06-02T16:02:02.844965",
     "status": "completed"
    },
    "tags": []
   },
   "source": [
    "## Classifying using decision tree\n",
    "<hr>"
   ]
  },
  {
   "cell_type": "code",
   "execution_count": null,
   "id": "pharmaceutical-priority",
   "metadata": {
    "execution": {
     "iopub.execute_input": "2021-06-02T16:02:03.117266Z",
     "iopub.status.busy": "2021-06-02T16:02:03.116648Z",
     "iopub.status.idle": "2021-06-02T16:02:03.174040Z",
     "shell.execute_reply": "2021-06-02T16:02:03.174481Z",
     "shell.execute_reply.started": "2021-05-27T17:19:54.321552Z"
    },
    "papermill": {
     "duration": 0.15019,
     "end_time": "2021-06-02T16:02:03.174680",
     "exception": false,
     "start_time": "2021-06-02T16:02:03.024490",
     "status": "completed"
    },
    "tags": []
   },
   "outputs": [
    {
     "ename": "",
     "evalue": "",
     "output_type": "error",
     "traceback": [
      "\u001b[1;31mRunning cells with 'cropreco' requires the ipykernel package.\n",
      "\u001b[1;31mRun the following command to install 'ipykernel' into the Python environment. \n",
      "\u001b[1;31mCommand: 'conda install -n cropreco ipykernel --update-deps --force-reinstall'"
     ]
    }
   ],
   "source": [
    "from sklearn.tree import DecisionTreeClassifier\n",
    "\n",
    "clf = DecisionTreeClassifier(random_state=42).fit(X_train, y_train)\n",
    "clf.score(X_test,y_test)"
   ]
  },
  {
   "cell_type": "markdown",
   "id": "usual-month",
   "metadata": {
    "papermill": {
     "duration": 0.088828,
     "end_time": "2021-06-02T16:02:03.355351",
     "exception": false,
     "start_time": "2021-06-02T16:02:03.266523",
     "status": "completed"
    },
    "tags": []
   },
   "source": [
    "### Let's visualize the import features which are taken into consideration by decision trees."
   ]
  },
  {
   "cell_type": "code",
   "execution_count": null,
   "id": "worth-kuwait",
   "metadata": {
    "execution": {
     "iopub.execute_input": "2021-06-02T16:02:03.537299Z",
     "iopub.status.busy": "2021-06-02T16:02:03.536705Z",
     "iopub.status.idle": "2021-06-02T16:02:03.751960Z",
     "shell.execute_reply": "2021-06-02T16:02:03.752478Z",
     "shell.execute_reply.started": "2021-05-27T17:19:54.384732Z"
    },
    "papermill": {
     "duration": 0.307874,
     "end_time": "2021-06-02T16:02:03.752659",
     "exception": false,
     "start_time": "2021-06-02T16:02:03.444785",
     "status": "completed"
    },
    "tags": []
   },
   "outputs": [
    {
     "ename": "",
     "evalue": "",
     "output_type": "error",
     "traceback": [
      "\u001b[1;31mRunning cells with 'cropreco' requires the ipykernel package.\n",
      "\u001b[1;31mRun the following command to install 'ipykernel' into the Python environment. \n",
      "\u001b[1;31mCommand: 'conda install -n cropreco ipykernel --update-deps --force-reinstall'"
     ]
    }
   ],
   "source": [
    "plt.figure(figsize=(10,4), dpi=80)\n",
    "c_features = len(X_train.columns)\n",
    "plt.barh(range(c_features), clf.feature_importances_)\n",
    "plt.xlabel(\"Feature importance\")\n",
    "plt.ylabel(\"Feature name\")\n",
    "plt.yticks(np.arange(c_features), X_train.columns)\n",
    "plt.show()"
   ]
  },
  {
   "cell_type": "markdown",
   "id": "broke-gauge",
   "metadata": {
    "papermill": {
     "duration": 0.091508,
     "end_time": "2021-06-02T16:02:03.934808",
     "exception": false,
     "start_time": "2021-06-02T16:02:03.843300",
     "status": "completed"
    },
    "tags": []
   },
   "source": [
    "## Classification using Random Forest.\n",
    "<hr>"
   ]
  },
  {
   "cell_type": "code",
   "execution_count": null,
   "id": "different-driving",
   "metadata": {
    "execution": {
     "iopub.execute_input": "2021-06-02T16:02:04.118021Z",
     "iopub.status.busy": "2021-06-02T16:02:04.117353Z",
     "iopub.status.idle": "2021-06-02T16:02:04.544793Z",
     "shell.execute_reply": "2021-06-02T16:02:04.544231Z",
     "shell.execute_reply.started": "2021-05-27T17:19:54.633347Z"
    },
    "papermill": {
     "duration": 0.520544,
     "end_time": "2021-06-02T16:02:04.544951",
     "exception": false,
     "start_time": "2021-06-02T16:02:04.024407",
     "status": "completed"
    },
    "tags": []
   },
   "outputs": [
    {
     "ename": "",
     "evalue": "",
     "output_type": "error",
     "traceback": [
      "\u001b[1;31mRunning cells with 'cropreco' requires the ipykernel package.\n",
      "\u001b[1;31mRun the following command to install 'ipykernel' into the Python environment. \n",
      "\u001b[1;31mCommand: 'conda install -n cropreco ipykernel --update-deps --force-reinstall'"
     ]
    }
   ],
   "source": [
    "'''\n",
    "max depth and n_estimator are important to fine tune otherwise trees will be densely graphed which will be a classic case of overfitting. max_depth=4 and n_estimators=10 gives pretty much satisfying results by making sure model is able to generalize well.\n",
    "'''\n",
    "\n",
    "from sklearn.ensemble import RandomForestClassifier\n",
    "clf = RandomForestClassifier(max_depth=4,n_estimators=100,random_state=42).fit(X_train, y_train)\n",
    "\n",
    "print('RF Accuracy on training set: {:.2f}'.format(clf.score(X_train, y_train)))\n",
    "print('RF Accuracy on test set: {:.2f}'.format(clf.score(X_test, y_test)))"
   ]
  },
  {
   "cell_type": "markdown",
   "id": "tight-british",
   "metadata": {
    "execution": {
     "iopub.execute_input": "2021-05-27T09:17:06.540362Z",
     "iopub.status.busy": "2021-05-27T09:17:06.539847Z",
     "iopub.status.idle": "2021-05-27T09:17:06.545961Z",
     "shell.execute_reply": "2021-05-27T09:17:06.544626Z",
     "shell.execute_reply.started": "2021-05-27T09:17:06.540325Z"
    },
    "papermill": {
     "duration": 0.093172,
     "end_time": "2021-06-02T16:02:04.731131",
     "exception": false,
     "start_time": "2021-06-02T16:02:04.637959",
     "status": "completed"
    },
    "tags": []
   },
   "source": [
    "### <div style=\"color:blue;\"><b> Classification report </b></div>\n",
    "\n",
    "#### **Let's use <u>yellowbrick</u> for classification report as they are great for visualizing in a tabular format**"
   ]
  },
  {
   "cell_type": "code",
   "execution_count": null,
   "id": "veterinary-restriction",
   "metadata": {
    "execution": {
     "iopub.execute_input": "2021-06-02T16:02:04.925302Z",
     "iopub.status.busy": "2021-06-02T16:02:04.924411Z",
     "iopub.status.idle": "2021-06-02T16:02:05.857483Z",
     "shell.execute_reply": "2021-06-02T16:02:05.857935Z",
     "shell.execute_reply.started": "2021-05-27T17:19:55.01038Z"
    },
    "papermill": {
     "duration": 1.032978,
     "end_time": "2021-06-02T16:02:05.858140",
     "exception": false,
     "start_time": "2021-06-02T16:02:04.825162",
     "status": "completed"
    },
    "tags": []
   },
   "outputs": [
    {
     "ename": "",
     "evalue": "",
     "output_type": "error",
     "traceback": [
      "\u001b[1;31mRunning cells with 'cropreco' requires the ipykernel package.\n",
      "\u001b[1;31mRun the following command to install 'ipykernel' into the Python environment. \n",
      "\u001b[1;31mCommand: 'conda install -n cropreco ipykernel --update-deps --force-reinstall'"
     ]
    }
   ],
   "source": [
    "# from yellowbrick.classifier import ClassificationReport\n",
    "# classes=list(targets.values())\n",
    "# visualizer = ClassificationReport(clf, classes=classes, support=True,cmap=\"Blues\")\n",
    "\n",
    "# visualizer.fit(X_train, y_train)  # Fit the visualizer and the model\n",
    "# visualizer.score(X_test, y_test)  # Evaluate the model on the test data\n",
    "# visualizer.show()"
   ]
  },
  {
   "cell_type": "markdown",
   "id": "willing-allocation",
   "metadata": {
    "execution": {
     "iopub.execute_input": "2021-05-26T16:46:54.307053Z",
     "iopub.status.busy": "2021-05-26T16:46:54.306782Z",
     "iopub.status.idle": "2021-05-26T16:46:54.313148Z",
     "shell.execute_reply": "2021-05-26T16:46:54.311805Z",
     "shell.execute_reply.started": "2021-05-26T16:46:54.30703Z"
    },
    "papermill": {
     "duration": 0.094196,
     "end_time": "2021-06-02T16:02:06.048500",
     "exception": false,
     "start_time": "2021-06-02T16:02:05.954304",
     "status": "completed"
    },
    "tags": []
   },
   "source": [
    "## Classification using Gradient Boosting\n",
    "<hr>"
   ]
  },
  {
   "cell_type": "code",
   "execution_count": null,
   "id": "certified-traveler",
   "metadata": {
    "execution": {
     "iopub.execute_input": "2021-06-02T16:02:06.245882Z",
     "iopub.status.busy": "2021-06-02T16:02:06.244955Z",
     "iopub.status.idle": "2021-06-02T16:02:16.220826Z",
     "shell.execute_reply": "2021-06-02T16:02:16.221613Z",
     "shell.execute_reply.started": "2021-05-27T17:19:56.081214Z"
    },
    "papermill": {
     "duration": 10.078227,
     "end_time": "2021-06-02T16:02:16.221864",
     "exception": false,
     "start_time": "2021-06-02T16:02:06.143637",
     "status": "completed"
    },
    "tags": []
   },
   "outputs": [
    {
     "ename": "",
     "evalue": "",
     "output_type": "error",
     "traceback": [
      "\u001b[1;31mRunning cells with 'cropreco' requires the ipykernel package.\n",
      "\u001b[1;31mRun the following command to install 'ipykernel' into the Python environment. \n",
      "\u001b[1;31mCommand: 'conda install -n cropreco ipykernel --update-deps --force-reinstall'"
     ]
    }
   ],
   "source": [
    "from sklearn.ensemble import GradientBoostingClassifier\n",
    "grad = GradientBoostingClassifier().fit(X_train, y_train)\n",
    "print('Gradient Boosting accuracy : {}'.format(grad.score(X_test,y_test)))"
   ]
  }
 ],
 "metadata": {
  "kernelspec": {
   "display_name": "Python 3 (ipykernel)",
   "language": "python",
   "name": "python3"
  },
  "language_info": {
   "codemirror_mode": {
    "name": "ipython",
    "version": 3
   },
   "file_extension": ".py",
   "mimetype": "text/x-python",
   "name": "python",
   "nbconvert_exporter": "python",
   "pygments_lexer": "ipython3",
   "version": "3.8.18"
  },
  "papermill": {
   "default_parameters": {},
   "duration": 84.973727,
   "end_time": "2021-06-02T16:02:17.948788",
   "environment_variables": {},
   "exception": null,
   "input_path": "__notebook__.ipynb",
   "output_path": "__notebook__.ipynb",
   "parameters": {},
   "start_time": "2021-06-02T16:00:52.975061",
   "version": "2.3.3"
  }
 },
 "nbformat": 4,
 "nbformat_minor": 5
}
